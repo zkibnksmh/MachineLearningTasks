{
  "nbformat": 4,
  "nbformat_minor": 0,
  "metadata": {
    "colab": {
      "provenance": [],
      "authorship_tag": "ABX9TyO8hV/1HblZ3eWCeuYfBOm8",
      "include_colab_link": true
    },
    "kernelspec": {
      "name": "python3",
      "display_name": "Python 3"
    },
    "language_info": {
      "name": "python"
    }
  },
  "cells": [
    {
      "cell_type": "markdown",
      "metadata": {
        "id": "view-in-github",
        "colab_type": "text"
      },
      "source": [
        "<a href=\"https://colab.research.google.com/github/zkibnksmh/MachineLearningTasks/blob/main/9thWeekTask/NN_on_Bundesliga_Player.ipynb\" target=\"_parent\"><img src=\"https://colab.research.google.com/assets/colab-badge.svg\" alt=\"Open In Colab\"/></a>"
      ]
    },
    {
      "cell_type": "code",
      "execution_count": 16,
      "metadata": {
        "id": "skwR8utPvQVH"
      },
      "outputs": [],
      "source": [
        "#Zaky Ibnu Kusumah\n",
        "#1103204213\n",
        "#TK4404"
      ]
    },
    {
      "cell_type": "code",
      "source": [
        "from google.colab import drive\n",
        "drive.mount('/content/drive')"
      ],
      "metadata": {
        "id": "FxAQIcz6wJ0J",
        "colab": {
          "base_uri": "https://localhost:8080/"
        },
        "outputId": "c4659cef-1886-4a98-93f1-13ca99207a12"
      },
      "execution_count": 17,
      "outputs": [
        {
          "output_type": "stream",
          "name": "stdout",
          "text": [
            "Drive already mounted at /content/drive; to attempt to forcibly remount, call drive.mount(\"/content/drive\", force_remount=True).\n"
          ]
        }
      ]
    },
    {
      "cell_type": "code",
      "source": [
        "import pandas as pd\n",
        "from sklearn.model_selection import train_test_split\n",
        "from sklearn.preprocessing import StandardScaler, LabelEncoder\n",
        "import tensorflow as tf\n",
        "from tensorflow.keras import layers, models"
      ],
      "metadata": {
        "id": "icrZpJ3_EA-g"
      },
      "execution_count": 18,
      "outputs": []
    },
    {
      "cell_type": "code",
      "source": [
        "# Define the path to your dataset in Google Drive\n",
        "dataset_path = '/content/drive/MyDrive/Dataset/bundesliga_player.csv'\n",
        "\n",
        "# Use Pandas to read the CSV file\n",
        "df = pd.read_csv(dataset_path)"
      ],
      "metadata": {
        "id": "kS8QpF2BEBs6"
      },
      "execution_count": 19,
      "outputs": []
    },
    {
      "cell_type": "code",
      "source": [
        "df.info()"
      ],
      "metadata": {
        "colab": {
          "base_uri": "https://localhost:8080/"
        },
        "id": "Mk85WFm3EERB",
        "outputId": "60e22a3c-ba0a-4d5e-f550-7b3bab3d68db"
      },
      "execution_count": 20,
      "outputs": [
        {
          "output_type": "stream",
          "name": "stdout",
          "text": [
            "<class 'pandas.core.frame.DataFrame'>\n",
            "RangeIndex: 515 entries, 0 to 514\n",
            "Data columns (total 17 columns):\n",
            " #   Column            Non-Null Count  Dtype  \n",
            "---  ------            --------------  -----  \n",
            " 0   Unnamed: 0        515 non-null    int64  \n",
            " 1   name              515 non-null    object \n",
            " 2   full_name         229 non-null    object \n",
            " 3   age               515 non-null    int64  \n",
            " 4   height            515 non-null    float64\n",
            " 5   nationality       515 non-null    object \n",
            " 6   place_of_birth    510 non-null    object \n",
            " 7   price             510 non-null    float64\n",
            " 8   max_price         510 non-null    float64\n",
            " 9   position          515 non-null    object \n",
            " 10  shirt_nr          515 non-null    int64  \n",
            " 11  foot              506 non-null    object \n",
            " 12  club              515 non-null    object \n",
            " 13  contract_expires  481 non-null    object \n",
            " 14  joined_club       515 non-null    object \n",
            " 15  player_agent      488 non-null    object \n",
            " 16  outfitter         193 non-null    object \n",
            "dtypes: float64(3), int64(3), object(11)\n",
            "memory usage: 68.5+ KB\n"
          ]
        }
      ]
    },
    {
      "cell_type": "code",
      "source": [
        "# Menghapus baris dengan nilai 'POA' pada kolom 'price'\n",
        "df = df[df['price'] != 'POA'].copy()\n",
        "\n",
        "# Mengonversi 'price' ke tipe data float\n",
        "df['price'] = df['price'].astype(float)"
      ],
      "metadata": {
        "id": "ZHld3tmrEJm6"
      },
      "execution_count": 21,
      "outputs": []
    },
    {
      "cell_type": "code",
      "source": [
        "# Mengganti nilai 'POA' dengan NaN (atau nilai lain yang sesuai)\n",
        "df['price'] = pd.to_numeric(df['price'], errors='coerce')"
      ],
      "metadata": {
        "id": "iPy5zmU5EL_Q"
      },
      "execution_count": 22,
      "outputs": []
    },
    {
      "cell_type": "code",
      "source": [
        "# Memilih kolom-kolom yang ingin digunakan sebagai fitur\n",
        "features = df[['name', 'full_name', 'age', 'height', 'nationality', 'place_of_birth',\n",
        "                 'price', 'max_price', 'position', 'shirt_nr', 'foot',\n",
        "                 'club', 'contract_expires', 'joined_club',\n",
        "                 'player_agent', 'outfitter']]\n",
        "\n",
        "# Kolom yang akan dijadikan target (price)\n",
        "target = df['price']\n",
        "\n",
        "# Mengonversi data kategorikal menjadi bentuk numerik\n",
        "label_encoders = {}\n",
        "for column in features.columns:\n",
        "    le = LabelEncoder()\n",
        "    features[column] = le.fit_transform(features[column])\n",
        "    label_encoders[column] = le\n",
        "\n",
        "# Memisahkan data menjadi data latihan dan data uji\n",
        "X_train, X_test, y_train, y_test = train_test_split(features, target, test_size=0.2, random_state=42)\n",
        "\n",
        "# Normalisasi fitur menggunakan StandardScaler\n",
        "scaler = StandardScaler()\n",
        "X_train_scaled = scaler.fit_transform(X_train)\n",
        "X_test_scaled = scaler.transform(X_test)\n",
        "\n",
        "# Membangun model neural network\n",
        "model = models.Sequential([\n",
        "    layers.Dense(128, activation='relu', input_shape=(X_train_scaled.shape[1],)),\n",
        "    layers.Dense(64, activation='relu'),\n",
        "    layers.Dense(1)  # Layer output tanpa aktivasi untuk regresi\n",
        "])\n",
        "\n",
        "# Kompilasi model\n",
        "model.compile(optimizer='adam', loss='mean_squared_error')\n",
        "\n",
        "# Mengonversi target menjadi tensor\n",
        "y_train_tensor = tf.convert_to_tensor(y_train.values, dtype=tf.float32)\n",
        "y_test_tensor = tf.convert_to_tensor(y_test.values, dtype=tf.float32)\n",
        "\n",
        "# Melatih model\n",
        "model.fit(X_train_scaled, y_train_tensor, epochs=10, batch_size=32, validation_data=(X_test_scaled, y_test_tensor))\n",
        "\n",
        "# Evaluasi model\n",
        "loss = model.evaluate(X_test_scaled, y_test_tensor)\n",
        "print(f'Mean Squared Error on Test Data: {loss}')\n",
        "\n",
        "# Melakukan prediksi\n",
        "predictions = model.predict(X_test_scaled)\n",
        "\n",
        "# Output prediksi dan nilai sebenarnya\n",
        "df_predictions = pd.DataFrame({'Actual Price': y_test_tensor.numpy(), 'Predicted Price': predictions.flatten()})\n",
        "print(df_predictions.head())"
      ],
      "metadata": {
        "colab": {
          "base_uri": "https://localhost:8080/"
        },
        "id": "i3TGL0t9EM2w",
        "outputId": "8487adf6-6faa-40a1-b2e2-195192c01a5b"
      },
      "execution_count": 26,
      "outputs": [
        {
          "output_type": "stream",
          "name": "stderr",
          "text": [
            "<ipython-input-26-eb8d703d8d46>:14: SettingWithCopyWarning: \n",
            "A value is trying to be set on a copy of a slice from a DataFrame.\n",
            "Try using .loc[row_indexer,col_indexer] = value instead\n",
            "\n",
            "See the caveats in the documentation: https://pandas.pydata.org/pandas-docs/stable/user_guide/indexing.html#returning-a-view-versus-a-copy\n",
            "  features[column] = le.fit_transform(features[column])\n",
            "<ipython-input-26-eb8d703d8d46>:14: SettingWithCopyWarning: \n",
            "A value is trying to be set on a copy of a slice from a DataFrame.\n",
            "Try using .loc[row_indexer,col_indexer] = value instead\n",
            "\n",
            "See the caveats in the documentation: https://pandas.pydata.org/pandas-docs/stable/user_guide/indexing.html#returning-a-view-versus-a-copy\n",
            "  features[column] = le.fit_transform(features[column])\n",
            "<ipython-input-26-eb8d703d8d46>:14: SettingWithCopyWarning: \n",
            "A value is trying to be set on a copy of a slice from a DataFrame.\n",
            "Try using .loc[row_indexer,col_indexer] = value instead\n",
            "\n",
            "See the caveats in the documentation: https://pandas.pydata.org/pandas-docs/stable/user_guide/indexing.html#returning-a-view-versus-a-copy\n",
            "  features[column] = le.fit_transform(features[column])\n",
            "<ipython-input-26-eb8d703d8d46>:14: SettingWithCopyWarning: \n",
            "A value is trying to be set on a copy of a slice from a DataFrame.\n",
            "Try using .loc[row_indexer,col_indexer] = value instead\n",
            "\n",
            "See the caveats in the documentation: https://pandas.pydata.org/pandas-docs/stable/user_guide/indexing.html#returning-a-view-versus-a-copy\n",
            "  features[column] = le.fit_transform(features[column])\n",
            "<ipython-input-26-eb8d703d8d46>:14: SettingWithCopyWarning: \n",
            "A value is trying to be set on a copy of a slice from a DataFrame.\n",
            "Try using .loc[row_indexer,col_indexer] = value instead\n",
            "\n",
            "See the caveats in the documentation: https://pandas.pydata.org/pandas-docs/stable/user_guide/indexing.html#returning-a-view-versus-a-copy\n",
            "  features[column] = le.fit_transform(features[column])\n",
            "<ipython-input-26-eb8d703d8d46>:14: SettingWithCopyWarning: \n",
            "A value is trying to be set on a copy of a slice from a DataFrame.\n",
            "Try using .loc[row_indexer,col_indexer] = value instead\n",
            "\n",
            "See the caveats in the documentation: https://pandas.pydata.org/pandas-docs/stable/user_guide/indexing.html#returning-a-view-versus-a-copy\n",
            "  features[column] = le.fit_transform(features[column])\n",
            "<ipython-input-26-eb8d703d8d46>:14: SettingWithCopyWarning: \n",
            "A value is trying to be set on a copy of a slice from a DataFrame.\n",
            "Try using .loc[row_indexer,col_indexer] = value instead\n",
            "\n",
            "See the caveats in the documentation: https://pandas.pydata.org/pandas-docs/stable/user_guide/indexing.html#returning-a-view-versus-a-copy\n",
            "  features[column] = le.fit_transform(features[column])\n",
            "<ipython-input-26-eb8d703d8d46>:14: SettingWithCopyWarning: \n",
            "A value is trying to be set on a copy of a slice from a DataFrame.\n",
            "Try using .loc[row_indexer,col_indexer] = value instead\n",
            "\n",
            "See the caveats in the documentation: https://pandas.pydata.org/pandas-docs/stable/user_guide/indexing.html#returning-a-view-versus-a-copy\n",
            "  features[column] = le.fit_transform(features[column])\n",
            "<ipython-input-26-eb8d703d8d46>:14: SettingWithCopyWarning: \n",
            "A value is trying to be set on a copy of a slice from a DataFrame.\n",
            "Try using .loc[row_indexer,col_indexer] = value instead\n",
            "\n",
            "See the caveats in the documentation: https://pandas.pydata.org/pandas-docs/stable/user_guide/indexing.html#returning-a-view-versus-a-copy\n",
            "  features[column] = le.fit_transform(features[column])\n",
            "<ipython-input-26-eb8d703d8d46>:14: SettingWithCopyWarning: \n",
            "A value is trying to be set on a copy of a slice from a DataFrame.\n",
            "Try using .loc[row_indexer,col_indexer] = value instead\n",
            "\n",
            "See the caveats in the documentation: https://pandas.pydata.org/pandas-docs/stable/user_guide/indexing.html#returning-a-view-versus-a-copy\n",
            "  features[column] = le.fit_transform(features[column])\n",
            "<ipython-input-26-eb8d703d8d46>:14: SettingWithCopyWarning: \n",
            "A value is trying to be set on a copy of a slice from a DataFrame.\n",
            "Try using .loc[row_indexer,col_indexer] = value instead\n",
            "\n",
            "See the caveats in the documentation: https://pandas.pydata.org/pandas-docs/stable/user_guide/indexing.html#returning-a-view-versus-a-copy\n",
            "  features[column] = le.fit_transform(features[column])\n",
            "<ipython-input-26-eb8d703d8d46>:14: SettingWithCopyWarning: \n",
            "A value is trying to be set on a copy of a slice from a DataFrame.\n",
            "Try using .loc[row_indexer,col_indexer] = value instead\n",
            "\n",
            "See the caveats in the documentation: https://pandas.pydata.org/pandas-docs/stable/user_guide/indexing.html#returning-a-view-versus-a-copy\n",
            "  features[column] = le.fit_transform(features[column])\n",
            "<ipython-input-26-eb8d703d8d46>:14: SettingWithCopyWarning: \n",
            "A value is trying to be set on a copy of a slice from a DataFrame.\n",
            "Try using .loc[row_indexer,col_indexer] = value instead\n",
            "\n",
            "See the caveats in the documentation: https://pandas.pydata.org/pandas-docs/stable/user_guide/indexing.html#returning-a-view-versus-a-copy\n",
            "  features[column] = le.fit_transform(features[column])\n",
            "<ipython-input-26-eb8d703d8d46>:14: SettingWithCopyWarning: \n",
            "A value is trying to be set on a copy of a slice from a DataFrame.\n",
            "Try using .loc[row_indexer,col_indexer] = value instead\n",
            "\n",
            "See the caveats in the documentation: https://pandas.pydata.org/pandas-docs/stable/user_guide/indexing.html#returning-a-view-versus-a-copy\n",
            "  features[column] = le.fit_transform(features[column])\n",
            "<ipython-input-26-eb8d703d8d46>:14: SettingWithCopyWarning: \n",
            "A value is trying to be set on a copy of a slice from a DataFrame.\n",
            "Try using .loc[row_indexer,col_indexer] = value instead\n",
            "\n",
            "See the caveats in the documentation: https://pandas.pydata.org/pandas-docs/stable/user_guide/indexing.html#returning-a-view-versus-a-copy\n",
            "  features[column] = le.fit_transform(features[column])\n",
            "<ipython-input-26-eb8d703d8d46>:14: SettingWithCopyWarning: \n",
            "A value is trying to be set on a copy of a slice from a DataFrame.\n",
            "Try using .loc[row_indexer,col_indexer] = value instead\n",
            "\n",
            "See the caveats in the documentation: https://pandas.pydata.org/pandas-docs/stable/user_guide/indexing.html#returning-a-view-versus-a-copy\n",
            "  features[column] = le.fit_transform(features[column])\n"
          ]
        },
        {
          "output_type": "stream",
          "name": "stdout",
          "text": [
            "Epoch 1/10\n",
            "13/13 [==============================] - 1s 12ms/step - loss: nan - val_loss: nan\n",
            "Epoch 2/10\n",
            "13/13 [==============================] - 0s 4ms/step - loss: nan - val_loss: nan\n",
            "Epoch 3/10\n",
            "13/13 [==============================] - 0s 3ms/step - loss: nan - val_loss: nan\n",
            "Epoch 4/10\n",
            "13/13 [==============================] - 0s 3ms/step - loss: nan - val_loss: nan\n",
            "Epoch 5/10\n",
            "13/13 [==============================] - 0s 3ms/step - loss: nan - val_loss: nan\n",
            "Epoch 6/10\n",
            "13/13 [==============================] - 0s 3ms/step - loss: nan - val_loss: nan\n",
            "Epoch 7/10\n",
            "13/13 [==============================] - 0s 3ms/step - loss: nan - val_loss: nan\n",
            "Epoch 8/10\n",
            "13/13 [==============================] - 0s 3ms/step - loss: nan - val_loss: nan\n",
            "Epoch 9/10\n",
            "13/13 [==============================] - 0s 3ms/step - loss: nan - val_loss: nan\n",
            "Epoch 10/10\n",
            "13/13 [==============================] - 0s 3ms/step - loss: nan - val_loss: nan\n",
            "4/4 [==============================] - 0s 2ms/step - loss: nan\n",
            "Mean Squared Error on Test Data: nan\n",
            "4/4 [==============================] - 0s 2ms/step\n",
            "   Actual Price  Predicted Price\n",
            "0           2.0              NaN\n",
            "1           1.5              NaN\n",
            "2           1.5              NaN\n",
            "3           6.5              NaN\n",
            "4           0.7              NaN\n"
          ]
        }
      ]
    }
  ]
}